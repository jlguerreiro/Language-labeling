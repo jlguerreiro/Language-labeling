{
 "cells": [
  {
   "cell_type": "code",
   "execution_count": 1,
   "metadata": {
    "collapsed": false
   },
   "outputs": [],
   "source": [
    "from sklearn.neural_network import MLPClassifier\n",
    "from sklearn.model_selection import KFold\n",
    "from sklearn.decomposition import PCA\n",
    "from sklearn import preprocessing\n",
    "import urllib2\n",
    "import numpy as np\n",
    "import re, string\n",
    "import time\n",
    "import urllib2\n",
    "from ipywidgets import widgets\n",
    "from IPython.display import display, clear_output\n",
    "import unicodedata\n",
    "import matplotlib.pyplot as plt"
   ]
  },
  {
   "cell_type": "code",
   "execution_count": 2,
   "metadata": {
    "collapsed": true
   },
   "outputs": [],
   "source": [
    "#function that removes accent marks\n",
    "def strip_accents(s):\n",
    "    return ''.join(c for c in unicodedata.normalize('NFD', s)\n",
    "                  if unicodedata.category(c) != 'Mn')"
   ]
  },
  {
   "cell_type": "code",
   "execution_count": 3,
   "metadata": {
    "collapsed": true
   },
   "outputs": [],
   "source": [
    "#function that determines the last 10 letters of a word, outputs binary numpy array of length 260\n",
    "def count(word):\n",
    "    count=[float(word[-1:].lower().count(letter)) for letter in list(string.ascii_lowercase)]\n",
    "    for k in range(2,11):\n",
    "        count = count + [float(word[-k:-k+1].lower().count(letter)) for letter in list(string.ascii_lowercase)]\n",
    "    return np.array(count) "
   ]
  },
  {
   "cell_type": "code",
   "execution_count": 4,
   "metadata": {
    "collapsed": false
   },
   "outputs": [],
   "source": [
    "#Loading texts \"Os Maias\" (Portuguese), \"Don Quijote\" (Spanish), \"Pride and Prejudice\" (English)\n",
    "#from Project Gutenberg, outputs list of words\n",
    "response_por = urllib2.urlopen('http://www.gutenberg.org/cache/epub/40409/pg40409.txt')\n",
    "response_spa = urllib2.urlopen('http://www.gutenberg.org/cache/epub/2000/pg2000.txt')\n",
    "response_eng = urllib2.urlopen('http://www.gutenberg.org/files/1342/1342-0.txt')\n",
    "#Cleaning data\n",
    "raw_por = response_por.read()[2321:-22083]\n",
    "raw_spa = response_spa.read()[28614:-19240]\n",
    "#raw_eng = response_eng.read()[721:-19210]\n",
    "text_por=re.sub(r'[^\\w\\s]','',strip_accents(unicode(raw_por, \"utf-8\"))).split()\n",
    "text_spa=re.sub(r'[^\\w\\s]','',strip_accents(unicode(raw_spa, \"utf-8\"))).split()\n",
    "#text_eng=re.sub(r'[^\\w\\s]','',strip_accents(unicode(raw_eng, \"utf-8\"))).split()"
   ]
  },
  {
   "cell_type": "code",
   "execution_count": 5,
   "metadata": {
    "collapsed": false
   },
   "outputs": [],
   "source": [
    "#Mapping count function to the first num_words words\n",
    "num_words = 40000\n",
    "count_por = map(count, text_por[:num_words])\n",
    "count_spa = map(count,text_spa[:num_words])"
   ]
  },
  {
   "cell_type": "code",
   "execution_count": 6,
   "metadata": {
    "collapsed": false
   },
   "outputs": [
    {
     "data": {
      "text/plain": [
       "2000"
      ]
     },
     "execution_count": 6,
     "metadata": {},
     "output_type": "execute_result"
    }
   ],
   "source": [
    "#Splitting the data into blocks of size len_block, mimicking short sentences\n",
    "len_block = 5\n",
    "num_words = 5000\n",
    "x_por = [count_por[i:i+len_block] for i in range(0,num_words,len_block)]\n",
    "x_spa = [count_spa[i:i+len_block] for i in range(0,num_words,len_block)]\n",
    "\n",
    "#Initializing target values\n",
    "y_por = [0]*len(x_por)\n",
    "y_spa = [1]*len(x_spa)\n",
    "\n",
    "#Combining data from both languages\n",
    "x_all = np.array(x_por+x_spa)\n",
    "y_all = np.array(y_por+y_spa)\n",
    "\n",
    "len(y_all)"
   ]
  },
  {
   "cell_type": "code",
   "execution_count": 7,
   "metadata": {
    "collapsed": true
   },
   "outputs": [],
   "source": [
    "#Function that computes the probability that a vector is from a certain language\n",
    "#Inputs are a list of neural networks classifiers (models), PCA algorithm (pca), \n",
    "#vector with count() values for each word\n",
    "#returns (probability Portuguese, probability Spanish)\n",
    "def probability(models, pca, vec):\n",
    "    probs = [model.predict_proba(pca.transform(vec)) for model in models]\n",
    "    #simple average over probabilities from each word and each model\n",
    "    return np.array(probs).mean(axis=0).mean(axis=0)"
   ]
  },
  {
   "cell_type": "code",
   "execution_count": 8,
   "metadata": {
    "collapsed": false
   },
   "outputs": [
    {
     "name": "stdout",
     "output_type": "stream",
     "text": [
      "Missed 10 out of 400\n",
      "32.3840000629 seconds\n",
      "Missed 8 out of 400\n",
      "32.756000042 seconds\n",
      "Missed 1 out of 400\n",
      "32.3159999847 seconds\n",
      "Missed 7 out of 400\n",
      "32.9839999676 seconds\n",
      "Missed 7 out of 400\n",
      "32.5920000076 seconds\n",
      "Miss rate: 1.65%\n"
     ]
    }
   ],
   "source": [
    "#5-fold cross validation\n",
    "\n",
    "#pick random folds\n",
    "kf = KFold(n_splits=5, shuffle = True)\n",
    "\n",
    "#overall misclassification rate\n",
    "overall = 0\n",
    "\n",
    "for train_ind, test_ind in kf.split(x_all):\n",
    "    t0=time.time()\n",
    "    \n",
    "    #divide data into training and cross validation sets\n",
    "    x_train = np.array(x_all[train_ind])\n",
    "    y_train = np.array(y_all[train_ind])\n",
    "    x_cv = np.array(x_all[test_ind])\n",
    "    y_cv = np.array(y_all[test_ind])\n",
    "        \n",
    "    #transform blocks of words in the training data into individual words\n",
    "    x_train_sub = [x for lista in x_train for x in lista]\n",
    "    y_train_sub = [value for value in y_train for _ in range(0,len_block)]\n",
    "    \n",
    "    #do PCA on the training data\n",
    "    pca = PCA(n_components=140)\n",
    "    pca.fit(x_train_sub)\n",
    "    \n",
    "    #list of models\n",
    "    models = []\n",
    "    \n",
    "    #loop to train each model\n",
    "    for i in range(1,6):        \n",
    "        clf = MLPClassifier(solver='lbfgs', alpha=1e-4, activation = 'logistic',\n",
    "                     hidden_layer_sizes=(30), random_state=i)\n",
    "        clf.fit(pca.transform(x_train_sub), y_train_sub)\n",
    "        models.append(clf)\n",
    "    \n",
    "    #compute the probabilities for each instance of cross validation\n",
    "    probs = map(lambda x: probability(models,pca, x), x_cv)\n",
    "    \n",
    "    #predict the language with the highest probability\n",
    "    pred = np.argmax(probs,axis=1)\n",
    "    \n",
    "    #number of misclassified examples\n",
    "    result = (np.array(pred) != np.array(y_cv)).sum()\n",
    "    #total examples\n",
    "    tot = len(y_cv)\n",
    "    \n",
    "    overall = overall+float(result)/(5*tot)\n",
    "    \n",
    "    #print misclafication rate for the current cv fold\n",
    "    print('Missed '+str(result)+' out of '+str(tot))\n",
    "    t1=time.time()\n",
    "    print(str(t1-t0)+' seconds')\n",
    "\n",
    "#print overall misclassification rate\n",
    "print('Miss rate: '+str(100*overall)+'%')"
   ]
  },
  {
   "cell_type": "code",
   "execution_count": 10,
   "metadata": {
    "collapsed": false
   },
   "outputs": [
    {
     "name": "stdout",
     "output_type": "stream",
     "text": [
      "44.4110000134 seconds\n",
      "46.4070000648 seconds\n",
      "45.3429999352 seconds\n",
      "45.521999836 seconds\n",
      "44.998000145 seconds\n"
     ]
    }
   ],
   "source": [
    "#Training the final model\n",
    "\n",
    "#Initializing the training data\n",
    "num_words = 32000\n",
    "x_train_por = count_por[:32000]\n",
    "x_train_spa = count_spa[:32000]\n",
    "y_train_por = [0]*len(x_train_por)\n",
    "y_train_spa = [1]*len(x_train_spa)\n",
    "x_train = np.array(x_train_por+x_train_spa)\n",
    "y_train = np.array(y_train_por+y_train_spa)\n",
    "    \n",
    "#PCA on training data\n",
    "pca = PCA(n_components=140)\n",
    "pca.fit(x_train)\n",
    "    \n",
    "models = []\n",
    "\n",
    "#Training 5 neural networks using different seeds for randomness\n",
    "for i in range(1,6):\n",
    "    t0=time.time()\n",
    "    clf = MLPClassifier(solver='lbfgs', alpha=1e-4, activation = 'logistic',\n",
    "                     hidden_layer_sizes=(30), random_state=i)\n",
    "    clf.fit(pca.transform(x_train), y_train)\n",
    "    models.append(clf)\n",
    "    \n",
    "    t1=time.time()\n",
    "    print(str(t1-t0)+' seconds')"
   ]
  },
  {
   "cell_type": "code",
   "execution_count": 11,
   "metadata": {
    "collapsed": false
   },
   "outputs": [
    {
     "name": "stdout",
     "output_type": "stream",
     "text": [
      "Miss rate (len_block = 1): 17.53%\n",
      "Miss rate (len_block = 2): 8.12%\n",
      "Miss rate (len_block = 3): 4.60%\n",
      "Miss rate (len_block = 4): 2.50%\n",
      "Miss rate (len_block = 5): 1.46%\n",
      "Miss rate (len_block = 6): 1.00%\n",
      "Miss rate (len_block = 7): 0.47%\n",
      "Miss rate (len_block = 8): 0.27%\n",
      "Miss rate (len_block = 9): 0.60%\n",
      "Miss rate (len_block = 10): 0.25%\n"
     ]
    }
   ],
   "source": [
    "#Computing misclassification rate for different block lengths\n",
    "\n",
    "#list of misclassification percentages for different block lengths\n",
    "miss_rate = []\n",
    "\n",
    "for len_block in range(1,11):\n",
    "    \n",
    "    #Initializing test data for each block length\n",
    "    num_words = 39000\n",
    "    x_test_por = [count_por[i:i+len_block] for i in range(33000,num_words,len_block)]\n",
    "    x_test_spa = [count_spa[i:i+len_block] for i in range(33000,num_words,len_block)]\n",
    "    y_test_por = [0]*len(x_test_por)\n",
    "    y_test_spa = [1]*len(x_test_spa)\n",
    "\n",
    "    x_test = np.array(x_test_por+x_test_spa)\n",
    "    y_test = np.array(y_test_por+y_test_spa)\n",
    "    \n",
    "    #compute probabilities on test data\n",
    "    probs = map(lambda x: probability(models, pca, x), x_test)\n",
    "    \n",
    "    #predict language with highest probability\n",
    "    pred = np.argmax(probs,axis=1)\n",
    "    \n",
    "    #number of misclassified examples\n",
    "    result = float((np.array(pred) != np.array(y_test)).sum())\n",
    "    #total examples\n",
    "    tot = len(y_test)\n",
    "    \n",
    "    #misclassification percentage\n",
    "    rate = float(100*result/tot)\n",
    "    \n",
    "    miss_rate.append(rate)\n",
    "    \n",
    "    print('Miss rate (len_block = ' + \"%d\" % len_block + \"): \" \"%.2f\" % rate + \"%\")"
   ]
  },
  {
   "cell_type": "code",
   "execution_count": 12,
   "metadata": {
    "collapsed": false
   },
   "outputs": [
    {
     "data": {
      "image/png": "[encoded data removed]",
      "text/plain": [
       "<matplotlib.figure.Figure at 0xa173e48>"
      ]
     },
     "metadata": {},
     "output_type": "display_data"
    }
   ],
   "source": [
    "#Plotting variation of misclassification rate per string length\n",
    "\n",
    "plt.plot(range(1,11), miss_rate)\n",
    "\n",
    "plt.xlabel('Number of words in string')\n",
    "plt.ylabel('Missclassification rate (%)')\n",
    "plt.title('Missclassification rate per string length')\n",
    "#added horizontal line with 1% threshold\n",
    "plt.axhline(1,color='r')\n",
    "plt.grid(True)\n",
    "plt.annotate('1%', \n",
    "             color = 'red',\n",
    "             xy=(1, 1.5))\n",
    "plt.show()"
   ]
  },
  {
   "cell_type": "code",
   "execution_count": 13,
   "metadata": {
    "collapsed": false
   },
   "outputs": [],
   "source": [
    "#function that receives a list of models, PCA from training data and a string s\n",
    "#outputs the languages the string was written in\n",
    "def parse_str(models,pca,s):\n",
    "    words = re.sub(r'[^\\w\\s]','',strip_accents(unicode(s, \"utf-8\"))).split()\n",
    "    probs = probability(models, pca, map(count,words))\n",
    "    if probs[0]>0.5:\n",
    "        print('Portuguese')\n",
    "    else:\n",
    "        print('Spanish')"
   ]
  },
  {
   "cell_type": "code",
   "execution_count": 14,
   "metadata": {
    "collapsed": false
   },
   "outputs": [
    {
     "name": "stdout",
     "output_type": "stream",
     "text": [
      "Spanish\n"
     ]
    }
   ],
   "source": [
    "#trying it out with some newspapers headlines\n",
    "sentence = 'Corbyn pide la dimisión de May por los recortes en seguridad'\n",
    "\n",
    "parse_str(models,pca,sentence)"
   ]
  },
  {
   "cell_type": "code",
   "execution_count": 15,
   "metadata": {
    "collapsed": false
   },
   "outputs": [
    {
     "name": "stdout",
     "output_type": "stream",
     "text": [
      "Portuguese\n"
     ]
    }
   ],
   "source": [
    "sentence = 'Corbyn pede a demissão de May por ter despedido 20 mil polícias'\n",
    "\n",
    "parse_str(models,pca,sentence)"
   ]
  }
 ],
 "metadata": {
  "kernelspec": {
   "display_name": "Python 2",
   "language": "python",
   "name": "python2"
  },
  "language_info": {
   "codemirror_mode": {
    "name": "ipython",
    "version": 2
   },
   "file_extension": ".py",
   "mimetype": "text/x-python",
   "name": "python",
   "nbconvert_exporter": "python",
   "pygments_lexer": "ipython2",
   "version": "2.7.13"
  }
 },
 "nbformat": 4,
 "nbformat_minor": 2
}
